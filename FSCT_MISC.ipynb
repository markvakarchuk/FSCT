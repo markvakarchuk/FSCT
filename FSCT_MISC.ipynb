{
 "cells": [
  {
   "cell_type": "code",
   "execution_count": 30,
   "metadata": {},
   "outputs": [],
   "source": [
    "import laspy\n",
    "import numpy as np\n",
    "import pandas as pd\n",
    "\n",
    "\n",
    "def load_file(\n",
    "    filename,\n",
    "    plot_centre=None,\n",
    "    plot_radius=0,\n",
    "    plot_radius_buffer=0,\n",
    "    silent=False,\n",
    "    headers_of_interest=None,\n",
    "    return_num_points=False,\n",
    "):\n",
    "    if headers_of_interest is None:\n",
    "        headers_of_interest = []\n",
    "    if not silent:\n",
    "        print(\"Loading file...\", filename)\n",
    "    file_extension = filename[-4:]\n",
    "    coord_headers = [\"x\", \"y\", \"z\"]\n",
    "    output_headers = []\n",
    "\n",
    "    if file_extension == \".las\" or file_extension == \".laz\":\n",
    "        try:\n",
    "            inFile = laspy.read(filename)\n",
    "        except FileNotFoundError:\n",
    "            print(filename, \"not found.\")\n",
    "            if return_num_points:\n",
    "                return np.zeros((0, 3)), None, 0\n",
    "            else:\n",
    "                return np.zeros((0, 3)), None\n",
    "\n",
    "        header_names = list(inFile.point_format.dimension_names)\n",
    "        pointcloud = np.vstack((inFile.x, inFile.y, inFile.z))\n",
    "        if len(headers_of_interest) != 0:\n",
    "            headers_of_interest = headers_of_interest[3:]\n",
    "            for header in headers_of_interest:\n",
    "                if header in header_names:\n",
    "                    pointcloud = np.vstack((pointcloud, getattr(inFile, header)))\n",
    "                    output_headers.append(header)\n",
    "        pointcloud = pointcloud.transpose()\n",
    "\n",
    "    elif file_extension == \".csv\":\n",
    "        pointcloud = np.array(pd.read_csv(filename, header=None, index_col=None, delim_whitespace=True))\n",
    "\n",
    "    original_num_points = pointcloud.shape[0]\n",
    "\n",
    "    if plot_centre is None:\n",
    "        mins = np.min(pointcloud[:, :2], axis=0)\n",
    "        maxes = np.max(pointcloud[:, :2], axis=0)\n",
    "        plot_centre = (maxes + mins) / 2\n",
    "        print(\"Mins: \" + str(mins))\n",
    "        print(\"Maxes: \" + str(maxes))\n",
    "        print(plot_centre)\n",
    "\n",
    "    if plot_radius > 0:\n",
    "        distances = np.linalg.norm(pointcloud[:, :2] - plot_centre, axis=1)\n",
    "        keep_points = distances < plot_radius + plot_radius_buffer\n",
    "        pointcloud = pointcloud[keep_points]\n",
    "\n",
    "    if return_num_points:\n",
    "        return pointcloud, coord_headers + output_headers, original_num_points\n",
    "    else:\n",
    "        return pointcloud, coord_headers + output_headers\n",
    "\n"
   ]
  },
  {
   "cell_type": "code",
   "execution_count": 35,
   "metadata": {},
   "outputs": [
    {
     "name": "stdout",
     "output_type": "stream",
     "text": [
      "Loading file... D:\\photogammetry\\Projects\\Flaming Tree Solutions\\Exports\\Small_Testing\\small_export.las\n",
      "Mins: [ 713424.312 4766904.865]\n",
      "Maxes: [ 713542.452 4767007.433]\n",
      "[ 713483.382 4766956.149]\n",
      "Loading file... D:\\photogammetry\\Projects\\Flaming Tree Solutions\\Exports\\Small_Testing\\Riverton_park_01_small - Copy.las\n",
      "Mins: [ 69.4041 -72.623 ]\n",
      "Maxes: [187.6313  27.4519]\n",
      "[128.5177  -22.58555]\n"
     ]
    }
   ],
   "source": [
    "file_path_processed = \"D:\\photogammetry\\Projects\\Flaming Tree Solutions\\Exports\\Small_Testing\\Riverton_park_01_small - Copy.las\"\n",
    "file_path =\"D:\\photogammetry\\Projects\\Flaming Tree Solutions\\Exports\\Small_Testing\\small_export.las\"\n",
    "# file_path_modified = \"D:\\photogammetry\\Projects\\Flaming Tree Solutions\\Exports\\cleaned_cyl_vis.las\"\n",
    "\n",
    "# file_path = \"D:\\photogammetry\\Projects\\Flaming Tree Solutions\\Exports\\Riverton_park_02_large.las\"\n",
    "# file_path_processed = \"D:\\photogammetry\\Projects\\Flaming Tree Solutions\\Exports\\Riverton_park_02_large_FSCT_output\\segmented_cleaned.las\"\n",
    "\n",
    "pc,cords,num= load_file(file_path,return_num_points=True)\n",
    "pc_p,cords_p,num_p = load_file(file_path_processed,return_num_points=True)\n",
    "# pc_m,cords_m,num_m = load_file(file_path_modified,return_num_points=True)\n"
   ]
  },
  {
   "cell_type": "code",
   "execution_count": 23,
   "metadata": {},
   "outputs": [
    {
     "name": "stdout",
     "output_type": "stream",
     "text": [
      "[[  73.6044  -72.6143 1491.4239]\n",
      " [  73.6857  -72.6058 1491.4259]\n",
      " [  73.4483  -72.6154 1491.4249]\n",
      " ...\n",
      " [ 182.1178   20.0932 1504.2309]\n",
      " [ 182.2432   20.1013 1504.2469]\n",
      " [ 180.1315   12.0332 1537.3269]]\n"
     ]
    }
   ],
   "source": [
    "print(pc_og)"
   ]
  },
  {
   "cell_type": "code",
   "execution_count": 29,
   "metadata": {},
   "outputs": [
    {
     "name": "stdout",
     "output_type": "stream",
     "text": [
      "81416921\n"
     ]
    }
   ],
   "source": [
    "print(num)"
   ]
  },
  {
   "cell_type": "code",
   "execution_count": 36,
   "metadata": {},
   "outputs": [
    {
     "name": "stdout",
     "output_type": "stream",
     "text": [
      "Loading file... D:\\photogammetry\\Projects\\Flaming Tree Solutions\\Exports\\Riverton_park_03_3trees.las\n",
      "Mins: [ 713458.518 4766985.888]\n",
      "Maxes: [ 713482.325 4767002.549]\n",
      "[ 713470.4215 4766994.2185]\n",
      "[[7.13460727e+05 4.76698631e+06 1.49178200e+03]\n",
      " [7.13460705e+05 4.76698600e+06 1.49180000e+03]\n",
      " [7.13460751e+05 4.76698637e+06 1.49176200e+03]\n",
      " ...\n",
      " [7.13478207e+05 4.76699996e+06 1.50162700e+03]\n",
      " [7.13478479e+05 4.76699999e+06 1.50200000e+03]\n",
      " [7.13478170e+05 4.76700000e+06 1.50161700e+03]]\n",
      "['x', 'y', 'z']\n",
      "4636739\n"
     ]
    }
   ],
   "source": [
    "file_path_3trees =\"D:\\photogammetry\\Projects\\Flaming Tree Solutions\\Exports\\Riverton_park_03_3trees.las\"\n",
    "\n",
    "\n",
    "pc_3t,cords_3t,num_3t= load_file(file_path_3trees,return_num_points=True)\n",
    "\n",
    "\n",
    "print(pc_3t)\n",
    "print(cords_3t)\n",
    "print(num_3t)"
   ]
  },
  {
   "cell_type": "code",
   "execution_count": 38,
   "metadata": {},
   "outputs": [
    {
     "name": "stdout",
     "output_type": "stream",
     "text": [
      "Loading file... D:\\photogammetry\\Projects\\Flaming Tree Solutions\\Exports\\Riverton_park_03_3trees_FSCT_output\\segmented.las\n",
      "Mins: [ 713458.518 4766985.888]\n",
      "Maxes: [ 713482.325 4767002.549]\n",
      "[ 713470.4215 4766994.2185]\n",
      "[[7.13460727e+05 4.76698631e+06 1.49178200e+03]\n",
      " [7.13460705e+05 4.76698600e+06 1.49180000e+03]\n",
      " [7.13460751e+05 4.76698637e+06 1.49176200e+03]\n",
      " ...\n",
      " [7.13478207e+05 4.76699996e+06 1.50162700e+03]\n",
      " [7.13478479e+05 4.76699999e+06 1.50200000e+03]\n",
      " [7.13478170e+05 4.76700000e+06 1.50161700e+03]]\n",
      "['x', 'y', 'z']\n",
      "4636739\n"
     ]
    }
   ],
   "source": [
    "file_path_3trees_P =\"D:\\photogammetry\\Projects\\Flaming Tree Solutions\\Exports\\Riverton_park_03_3trees_FSCT_output\\segmented.las\"\n",
    "\n",
    "\n",
    "pc_3t_P,cords_3t_P,num_3t_P= load_file(file_path_3trees_P,return_num_points=True)\n",
    "\n",
    "\n",
    "print(pc_3t_P)\n",
    "print(cords_3t_P)\n",
    "print(num_3t_P)"
   ]
  },
  {
   "cell_type": "code",
   "execution_count": 39,
   "metadata": {},
   "outputs": [
    {
     "name": "stdout",
     "output_type": "stream",
     "text": [
      "Loading file... D:\\photogammetry\\Projects\\Flaming Tree Solutions\\Exports\\Riverton_park_04_oddshape_FSCT_output\\segmented.las\n",
      "Mins: [ 713428.697 4766775.887]\n",
      "Maxes: [ 713643.275 4767014.093]\n",
      "[ 713535.986 4766894.99 ]\n",
      "[[7.13627131e+05 4.76701331e+06 1.49163300e+03]\n",
      " [7.13438808e+05 4.76677664e+06 1.49131000e+03]\n",
      " [7.13438717e+05 4.76677666e+06 1.49130900e+03]\n",
      " ...\n",
      " [7.13616984e+05 4.76700295e+06 1.50691600e+03]\n",
      " [7.13616894e+05 4.76700297e+06 1.50707900e+03]\n",
      " [7.13616933e+05 4.76700278e+06 1.50696400e+03]]\n",
      "['x', 'y', 'z']\n",
      "215367746\n"
     ]
    }
   ],
   "source": [
    "file_path_3trees_odd =\"D:\\photogammetry\\Projects\\Flaming Tree Solutions\\Exports\\Riverton_park_04_oddshape_FSCT_output\\segmented.las\"\n",
    "\n",
    "\n",
    "pc_odd,cords_odd,num_odd= load_file(file_path_3trees_odd,return_num_points=True)\n",
    "\n",
    "\n",
    "print(pc_odd)\n",
    "print(cords_odd)\n",
    "print(num_odd)"
   ]
  }
 ],
 "metadata": {
  "kernelspec": {
   "display_name": "FSCT",
   "language": "python",
   "name": "python3"
  },
  "language_info": {
   "codemirror_mode": {
    "name": "ipython",
    "version": 3
   },
   "file_extension": ".py",
   "mimetype": "text/x-python",
   "name": "python",
   "nbconvert_exporter": "python",
   "pygments_lexer": "ipython3",
   "version": "3.9.18"
  }
 },
 "nbformat": 4,
 "nbformat_minor": 2
}
